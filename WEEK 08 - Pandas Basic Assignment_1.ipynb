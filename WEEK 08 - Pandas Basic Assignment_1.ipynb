{
 "cells": [
  {
   "cell_type": "markdown",
   "metadata": {},
   "source": [
    "Q1. Create a Pandas Series that contains the following data: 4, 8, 15, 16, 23, and 42. Then, print the series."
   ]
  },
  {
   "cell_type": "code",
   "execution_count": 4,
   "metadata": {},
   "outputs": [
    {
     "name": "stdout",
     "output_type": "stream",
     "text": [
      "0     4\n",
      "1     8\n",
      "2    15\n",
      "3    16\n",
      "4    23\n",
      "5    42\n",
      "dtype: int64\n"
     ]
    }
   ],
   "source": [
    "import pandas as pd\n",
    "\n",
    "data = [4,8,15,16,23,42]\n",
    "\n",
    "series = pd.Series(data)\n",
    "\n",
    "print(series)"
   ]
  },
  {
   "cell_type": "markdown",
   "metadata": {},
   "source": [
    "Q2. Create a variable of list type containing 10 elements in it, and apply pandas.Series function on the\n",
    "variable print it."
   ]
  },
  {
   "cell_type": "code",
   "execution_count": 5,
   "metadata": {},
   "outputs": [
    {
     "name": "stdout",
     "output_type": "stream",
     "text": [
      "0     1\n",
      "1     2\n",
      "2     3\n",
      "3     4\n",
      "4     5\n",
      "5     6\n",
      "6     7\n",
      "7     8\n",
      "8     9\n",
      "9    10\n",
      "dtype: int64\n"
     ]
    }
   ],
   "source": [
    "\n",
    "my_list = [1, 2, 3, 4, 5, 6, 7, 8, 9, 10]\n",
    "\n",
    "my_series = pd.Series(my_list)\n",
    "\n",
    "print(my_series)\n"
   ]
  },
  {
   "cell_type": "markdown",
   "metadata": {},
   "source": [
    "Q3. Create a Pandas DataFrame that contains the following data:"
   ]
  },
  {
   "cell_type": "code",
   "execution_count": 6,
   "metadata": {},
   "outputs": [
    {
     "name": "stdout",
     "output_type": "stream",
     "text": [
      "      name  age  gender\n",
      "0    Alice   25  Female\n",
      "1      Bob   30    Male\n",
      "2  Clairie   27  Female\n"
     ]
    }
   ],
   "source": [
    "data = {\n",
    "    'name': ['Alice','Bob', 'Clairie'],\n",
    "    'age': [25, 30, 27],\n",
    "    'gender': ['Female', 'Male', 'Female']\n",
    "}\n",
    "\n",
    "# Convert the dictionary into a Pandas DataFrame\n",
    "df = pd.DataFrame(data)\n",
    "\n",
    "# Print the DataFrame\n",
    "print(df)"
   ]
  },
  {
   "cell_type": "markdown",
   "metadata": {},
   "source": [
    "Q4. What is ‘DataFrame’ in pandas and how is it different from pandas.series? Explain with an example."
   ]
  },
  {
   "cell_type": "markdown",
   "metadata": {},
   "source": [
    "**DataFrame in Pandas:**\n",
    "A DataFrame is a 2-dimensional data structure in Pandas, resembling a table or spreadsheet. It consists of rows and columns, where each column can have a different data type. DataFrames provide a convenient way to organize and manipulate structured data.\n",
    "\n",
    "**Series in Pandas:**\n",
    "A Series is a 1-dimensional labeled array in Pandas, similar to a Python list. It can hold data of a single data type and has associated labeled indexing, allowing for easy access and manipulation of data.\n",
    "\n",
    "The main differnce between above two are\n",
    "\n",
    "**Dimensionality:** DataFrame is a 2-dimensional data structure with rows and columns, while Series is a 1-dimensional data structure with labeled indices.\n",
    "\n",
    "**Data structure:** DataFrame is a collection of Series, where each column of the DataFrame represents a Series. Series, on the other hand, is a single column of data."
   ]
  },
  {
   "cell_type": "code",
   "execution_count": 7,
   "metadata": {},
   "outputs": [
    {
     "name": "stdout",
     "output_type": "stream",
     "text": [
      "      name  age  gender\n",
      "0    Alice   25  Female\n",
      "1      Bob   30    Male\n",
      "2  Clairie   27  Female\n"
     ]
    }
   ],
   "source": [
    "# example of a pandas dataframe\n",
    "\n",
    "data = {\n",
    "    'name': ['Alice','Bob', 'Clairie'],\n",
    "    'age': [25, 30, 27],\n",
    "    'gender': ['Female', 'Male', 'Female']\n",
    "}\n",
    "\n",
    "# Convert the dictionary into a Pandas DataFrame\n",
    "df = pd.DataFrame(data)\n",
    "\n",
    "# Print the DataFrame\n",
    "print(df)"
   ]
  },
  {
   "cell_type": "code",
   "execution_count": 8,
   "metadata": {},
   "outputs": [
    {
     "name": "stdout",
     "output_type": "stream",
     "text": [
      "A    10\n",
      "B    20\n",
      "C    30\n",
      "D    40\n",
      "E    50\n",
      "dtype: int64\n"
     ]
    }
   ],
   "source": [
    "\n",
    "# Example of a pandas  Series\n",
    "data = [10, 20, 30, 40, 50]\n",
    "index = ['A', 'B', 'C', 'D', 'E']\n",
    "series = pd.Series(data, index=index)\n",
    "\n",
    "# Print the Series\n",
    "print(series)\n"
   ]
  },
  {
   "cell_type": "markdown",
   "metadata": {},
   "source": [
    "Q5. What are some common functions you can use to manipulate data in a Pandas DataFrame? Can\n",
    "you give an example of when you might use one of these functions?"
   ]
  },
  {
   "cell_type": "markdown",
   "metadata": {},
   "source": [
    "**head() and tail():** View the first few or last few rows of the DataFrame.\n",
    "\n",
    "**info():** Display information about the DataFrame, including column names, data types, and non-null counts.\n",
    "\n",
    "**describe():** Generate descriptive statistics for numeric columns in the DataFrame.\n",
    "\n",
    "**groupby():** Group the DataFrame based on one or more columns and perform aggregate operations on each group.\n",
    "\n",
    "**apply():** Apply a custom function to each element, row, or column of the DataFrame.\n",
    "\n",
    "**drop():** Remove specified rows or columns from the DataFrame.\n",
    "\n",
    "**sort_values():** Sort the DataFrame based on one or more columns.\n",
    "\n",
    "**merge():** Combine two DataFrames based on a common column or index.\n",
    "\n",
    "**pivot_table():** Create a spreadsheet-style pivot table from the DataFrame.\n",
    "\n",
    "**fillna():** Replace missing values (NaN) with a specified value or a calculated value."
   ]
  },
  {
   "cell_type": "code",
   "execution_count": 9,
   "metadata": {},
   "outputs": [
    {
     "name": "stdout",
     "output_type": "stream",
     "text": [
      "Subject  Math  Science\n",
      "Name                  \n",
      "Aditi    90.0     95.0\n",
      "Bhavesh   NaN     85.0\n",
      "Chetna   78.0      NaN\n",
      "Deepak   82.0     92.0\n",
      "Esha     88.0      NaN\n"
     ]
    }
   ],
   "source": [
    "# Example of a pivot table\n",
    "\n",
    "data = {\n",
    "    'Name': ['Aditi', 'Bhavesh', 'Chetna', 'Deepak', 'Esha', 'Aditi', 'Deepak'],\n",
    "    'Age': [25, 30, 28, 22, 35, 27, 22],\n",
    "    'Gender': ['Female', 'Male', 'Female', 'Male', 'Female', 'Female', 'Male'],\n",
    "    'Subject': ['Math', 'Science', 'Math', 'Science', 'Math', 'Science', 'Math'],\n",
    "    'Score': [90, 85, 78, 92, 88, 95, 82]\n",
    "}\n",
    "\n",
    "# Create a DataFrame\n",
    "df = pd.DataFrame(data)\n",
    "\n",
    "# Create the pivot table\n",
    "pivot_table = df.pivot_table(index='Name', columns='Subject', values='Score', aggfunc='mean')\n",
    "\n",
    "# Print the pivot table\n",
    "print(pivot_table)\n"
   ]
  },
  {
   "cell_type": "markdown",
   "metadata": {},
   "source": [
    "Q6. Which of the following is mutable in nature Series, DataFrame, Panel?"
   ]
  },
  {
   "cell_type": "markdown",
   "metadata": {},
   "source": [
    "**Among the options provided (Series, DataFrame, and Panel), the mutable nature applies to the DataFrame and Panel.**\n",
    "\n",
    "In Pandas:\n",
    "\n",
    "**Series:** A Pandas Series is a one-dimensional labeled array and is immutable, meaning once it is created, you cannot change its elements or size. You can, however, create a new Series based on an existing one with modifications.\n",
    "\n",
    "**DataFrame:** A Pandas DataFrame is a two-dimensional labeled data structure and is mutable, meaning you can modify its elements, add or remove rows and columns, change data values, etc. DataFrames are designed to be flexible and allow various data manipulation operations.\n",
    "\n",
    "**Panel:** A Pandas Panel is a three-dimensional data structure, which can be considered as a container for multiple DataFrames. However, Pandas deprecated Panels in version 0.25.0 and recommended using multi-index DataFrames or other data structures for handling 3D data. Nonetheless, the Panel, when used, was mutable as well."
   ]
  },
  {
   "cell_type": "markdown",
   "metadata": {},
   "source": [
    "Q7. Create a DataFrame using multiple Series. Explain with an example."
   ]
  },
  {
   "cell_type": "code",
   "execution_count": 10,
   "metadata": {},
   "outputs": [
    {
     "name": "stdout",
     "output_type": "stream",
     "text": [
      "      Name  Age  Gender\n",
      "0    Aditi   25  Female\n",
      "1  Bhavesh   30    Male\n",
      "2   Chetna   28  Female\n",
      "3   Deepak   22    Male\n",
      "4      Eva   35  Female\n"
     ]
    }
   ],
   "source": [
    "#Pass a dictionary of Series to the pd.DataFrame function.\n",
    "#Each Series will become a column in the DataFrame, and they must have the same length.\n",
    "\n",
    "names = pd.Series(['Aditi', 'Bhavesh', 'Chetna', 'Deepak', 'Eva'])\n",
    "ages = pd.Series([25, 30, 28, 22, 35])\n",
    "genders = pd.Series(['Female', 'Male', 'Female', 'Male', 'Female'])\n",
    "\n",
    "# Creating the DataFrame using the dictionary of Series\n",
    "data = {\n",
    "    'Name': names,\n",
    "    'Age': ages,\n",
    "    'Gender': genders\n",
    "}\n",
    "\n",
    "df = pd.DataFrame(data)\n",
    "\n",
    "# Printing the DataFrame\n",
    "print(df)\n"
   ]
  },
  {
   "cell_type": "code",
   "execution_count": null,
   "metadata": {},
   "outputs": [],
   "source": []
  }
 ],
 "metadata": {
  "kernelspec": {
   "display_name": "Python 3",
   "language": "python",
   "name": "python3"
  },
  "language_info": {
   "codemirror_mode": {
    "name": "ipython",
    "version": 3
   },
   "file_extension": ".py",
   "mimetype": "text/x-python",
   "name": "python",
   "nbconvert_exporter": "python",
   "pygments_lexer": "ipython3",
   "version": "3.11.1"
  },
  "orig_nbformat": 4
 },
 "nbformat": 4,
 "nbformat_minor": 2
}
